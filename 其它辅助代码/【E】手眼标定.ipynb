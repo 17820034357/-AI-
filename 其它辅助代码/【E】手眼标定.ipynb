{
 "cells": [
  {
   "cell_type": "markdown",
   "id": "562059cb-a607-4b25-95c3-3f1f601ac569",
   "metadata": {},
   "source": [
    "# 手眼标定\n",
    "\n",
    "小朱-学长 2024-10-19\n",
    "## 手眼标定的原理\n",
    "\n",
    "已知图像上两个点的【像素坐标】和【机械臂坐标】，就可以通过【线性插值】，建立像素坐标到机械臂坐标的映射关系。输入图像任意一点的像素坐标，hand_eye_calibration函数就能转换为机械臂坐标。让机械臂移动到图像上的同一个位置。\n",
    "\n",
    "在xzarm_robot.py里修改hand_eye_calibration函数，填好八个数字坐标。"
   ]
  },
  {
   "cell_type": "markdown",
   "id": "ac9fcc38-af22-4667-b1d1-a7408af011b1",
   "metadata": {},
   "source": [
    "## 导入工具包"
   ]
  },
  {
   "cell_type": "code",
   "execution_count": 6,
   "id": "b9450e76",
   "metadata": {},
   "outputs": [],
   "source": [
    "from pymycobot import MyCobot280\n",
    "from pymycobot import PI_PORT, PI_BAUD\n",
    "import time\n",
    "\n",
    "import cv2,os\n",
    "import numpy as np\n",
    "\n",
    "import matplotlib.pyplot as plt\n",
    "%matplotlib inline"
   ]
  },
  {
   "cell_type": "markdown",
   "id": "4d36547f-06a3-423a-91a8-f1d84bdd6dae",
   "metadata": {},
   "source": [
    "## 连接机械臂"
   ]
  },
  {
   "cell_type": "code",
   "execution_count": 2,
   "id": "5e665862-db0e-42a9-b26b-2cdbf614b5ac",
   "metadata": {},
   "outputs": [],
   "source": [
    "mc = MyCobot280(PI_PORT, PI_BAUD)"
   ]
  },
  {
   "cell_type": "markdown",
   "id": "e5f4534f-13cc-43a2-b7b4-15d0bd5d3031",
   "metadata": {},
   "source": [
    "## 设置运动模式为插补"
   ]
  },
  {
   "cell_type": "code",
   "execution_count": null,
   "id": "6e9cf1b3-2d0f-4e6e-8174-62e7113b787b",
   "metadata": {},
   "outputs": [],
   "source": [
    "mc.set_fresh_mode(0)"
   ]
  },
  {
   "cell_type": "markdown",
   "id": "fc66a1ad-67bd-43ff-aa79-f011255b0bcd",
   "metadata": {},
   "source": [
    "## 机械臂归零"
   ]
  },
  {
   "cell_type": "code",
   "execution_count": 4,
   "id": "bd804f52-710b-4003-9a84-8d0355bff012",
   "metadata": {},
   "outputs": [],
   "source": [
    "mc.send_angles([0, 0, 0, 0, 0, 0], 40)\n",
    "time.sleep(3)"
   ]
  },
  {
   "attachments": {},
   "cell_type": "markdown",
   "id": "4d62707b-f9d3-4934-99cf-107074a4553c",
   "metadata": {},
   "source": [
    "## 第一步：移动至俯视姿态\n",
    "\n",
    "俯视姿态（关节）：[2.46, -8.26, -5.53, -74.0, -0.43, 94.74]"
   ]
  },
  {
   "cell_type": "code",
   "execution_count": null,
   "id": "0d31eb93-ff2f-45a1-ac0e-1b3fcfa167c1",
   "metadata": {},
   "outputs": [],
   "source": [
    "mc.get_angles()"
   ]
  },
  {
   "cell_type": "code",
   "execution_count": 5,
   "id": "53731c82-dde4-4cf6-a30c-409b49050423",
   "metadata": {},
   "outputs": [],
   "source": [
    "mc.send_angles([2.46, -8.26, -5.53, -74.0, -0.43, 94.74], 10)\n",
    "time.sleep(3)"
   ]
  },
  {
   "attachments": {},
   "cell_type": "markdown",
   "id": "ebadf824-9b6e-4b1a-9b2a-36a6a485a517",
   "metadata": {},
   "source": [
    "## 第二步：在白纸靠左上角的位置，画一个标定点\n",
    "\n",
    "## 第三步：运行xzarm_camera.py，打开摄像头实时画面\n",
    "\n",
    "## 第四步：把白纸左上角对准画面左上角\n",
    "\n",
    "## 第五步：白纸上边与底座、图像上边平齐，白纸下边与图像下边平齐\n",
    "\n",
    "## 第六步：用夹子固定白纸，分别夹左上角和右下角。（把麦克风线也固定）\n",
    "\n",
    "## 第七步：通过鼠标点选，获取白纸左上角标定点，在图像上的像素坐标"
   ]
  },
  {
   "cell_type": "code",
   "execution_count": null,
   "id": "02a21378-1574-414d-a878-53906d21d663",
   "metadata": {},
   "outputs": [],
   "source": [
    "# 第一个标定点的像素坐标\n",
    "cali_1_pixel = [591, 435]"
   ]
  },
  {
   "attachments": {},
   "cell_type": "markdown",
   "id": "1ded7260-bcba-4e61-8dc4-570a54034e9d",
   "metadata": {},
   "source": [
    "## 第八步：控制机械臂，移动至左上角第一个标定点"
   ]
  },
  {
   "attachments": {},
   "cell_type": "markdown",
   "id": "d3490d39",
   "metadata": {},
   "source": [
    "8.1机械臂断电"
   ]
  },
  {
   "cell_type": "code",
   "execution_count": 42,
   "id": "31098bdb",
   "metadata": {},
   "outputs": [],
   "source": [
    "# 移动到标定点附近\n",
    "mc.release_all_servos()\n",
    "time.sleep(3)"
   ]
  },
  {
   "attachments": {},
   "cell_type": "markdown",
   "id": "32a2d439",
   "metadata": {},
   "source": [
    "8.2机械臂定点"
   ]
  },
  {
   "cell_type": "code",
   "execution_count": 43,
   "id": "0b726022",
   "metadata": {},
   "outputs": [],
   "source": [
    "angles=mc.get_angles()\n",
    "time.sleep(0.1)\n",
    "mc.send_angles(angles,10)\n",
    "time.sleep(2)"
   ]
  },
  {
   "attachments": {},
   "cell_type": "markdown",
   "id": "7bce726a",
   "metadata": {},
   "source": [
    "8.3微调关节"
   ]
  },
  {
   "cell_type": "code",
   "execution_count": null,
   "id": "d2689730",
   "metadata": {},
   "outputs": [],
   "source": [
    "mc.get_angles()"
   ]
  },
  {
   "cell_type": "code",
   "execution_count": null,
   "id": "fb595118",
   "metadata": {},
   "outputs": [],
   "source": [
    "n=3         #关节轴\n",
    "m=30          #角度\n",
    "mc.send_angle(n,m,10)\n",
    "time.sleep(1)"
   ]
  },
  {
   "cell_type": "code",
   "execution_count": null,
   "id": "272219bc-a392-48a3-919f-ecb2b2e2df83",
   "metadata": {},
   "outputs": [],
   "source": [
    "mc.get_coords()"
   ]
  },
  {
   "attachments": {},
   "cell_type": "markdown",
   "id": "f923ff43",
   "metadata": {},
   "source": [
    "8.4微调坐标"
   ]
  },
  {
   "cell_type": "code",
   "execution_count": null,
   "id": "4e1e3de9",
   "metadata": {},
   "outputs": [],
   "source": [
    "mc.get_coords()"
   ]
  },
  {
   "cell_type": "code",
   "execution_count": 8,
   "id": "a4730b75",
   "metadata": {},
   "outputs": [],
   "source": [
    "n=6         #XYZ坐标数\n",
    "m=180       #值\n",
    "mc.send_coord(n, m, 20)\n",
    "time.sleep(1)"
   ]
  },
  {
   "attachments": {},
   "cell_type": "markdown",
   "id": "b8b8e64e-15e9-413d-a7a5-5516eb4f27a0",
   "metadata": {},
   "source": [
    "8.5记下机械臂坐标"
   ]
  },
  {
   "cell_type": "code",
   "execution_count": null,
   "id": "3a74a39c-0d8f-4eab-8dba-210a14da941d",
   "metadata": {},
   "outputs": [],
   "source": [
    "# 第一个标定点的机械臂坐标\n",
    "cali_1_mc = [-21.8, -197.4]"
   ]
  },
  {
   "attachments": {},
   "cell_type": "markdown",
   "id": "7a19cf5b-0475-48f0-8369-d3622e3a47d9",
   "metadata": {},
   "source": [
    "## 第九步：控制机械臂，移动至右下角第二个标定点"
   ]
  },
  {
   "cell_type": "code",
   "execution_count": null,
   "id": "6f13a54a",
   "metadata": {},
   "outputs": [],
   "source": [
    "# 机械臂归零\n",
    "mc.send_angles([0, 0, 0, 0, 0, 0], 40)\n",
    "time.sleep(3)"
   ]
  },
  {
   "cell_type": "code",
   "execution_count": null,
   "id": "302660c2-197d-440c-b5cd-cbad116cc823",
   "metadata": {},
   "outputs": [],
   "source": [
    "# 第二个标定点的像素坐标\n",
    "cali_2_pixel = [51, 71]"
   ]
  },
  {
   "attachments": {},
   "cell_type": "markdown",
   "id": "3ee7b594",
   "metadata": {},
   "source": [
    "8.1机械臂断电"
   ]
  },
  {
   "cell_type": "code",
   "execution_count": null,
   "id": "b86a86d7",
   "metadata": {},
   "outputs": [],
   "source": [
    "# 移动到标定点附近\n",
    "mc.release_all_servos()\n",
    "time.sleep(3)"
   ]
  },
  {
   "attachments": {},
   "cell_type": "markdown",
   "id": "0c2265f4",
   "metadata": {},
   "source": [
    "8.2机械臂定点"
   ]
  },
  {
   "cell_type": "code",
   "execution_count": null,
   "id": "6c830f0c",
   "metadata": {},
   "outputs": [],
   "source": [
    "angles=mc.get_angles()\n",
    "time.sleep(0.1)\n",
    "mc.send_angles(angles,10)\n",
    "time.sleep(2)"
   ]
  },
  {
   "cell_type": "code",
   "execution_count": null,
   "id": "4637a5e6",
   "metadata": {},
   "outputs": [],
   "source": [
    "mc.get_angles()"
   ]
  },
  {
   "attachments": {},
   "cell_type": "markdown",
   "id": "90624e26",
   "metadata": {},
   "source": [
    "8.3微调关节"
   ]
  },
  {
   "cell_type": "code",
   "execution_count": null,
   "id": "31c0630f-7620-4006-930d-fc15f6355423",
   "metadata": {},
   "outputs": [],
   "source": [
    "n=6#关节轴\n",
    "m=120#角度\n",
    "\n",
    "mc.send_angle(n,m,10)\n",
    "time.sleep(1)"
   ]
  },
  {
   "attachments": {},
   "cell_type": "markdown",
   "id": "9f54e7aa",
   "metadata": {},
   "source": [
    "8.4微调坐标"
   ]
  },
  {
   "cell_type": "code",
   "execution_count": null,
   "id": "b6eea920",
   "metadata": {},
   "outputs": [],
   "source": [
    "mc.get_coords()"
   ]
  },
  {
   "cell_type": "code",
   "execution_count": null,
   "id": "6064f127",
   "metadata": {},
   "outputs": [],
   "source": [
    "n=6         #XYZ坐标数\n",
    "m=120       #值\n",
    "mc.send_coord(n, m, 20)\n",
    "time.sleep(1)"
   ]
  },
  {
   "attachments": {},
   "cell_type": "markdown",
   "id": "78a09df4",
   "metadata": {},
   "source": [
    "9.5记下机械臂坐标"
   ]
  },
  {
   "cell_type": "code",
   "execution_count": null,
   "id": "d95098c1",
   "metadata": {},
   "outputs": [],
   "source": [
    "# 第二个标定点的机械臂坐标\n",
    "cali_2_mc = [51.0, -140.6]"
   ]
  },
  {
   "cell_type": "markdown",
   "id": "f7d0bce1-225d-4f90-a7cb-72bfe2255e3b",
   "metadata": {},
   "source": [
    "## 第十步：通过插值，获取图像任意像素坐标对应的机械臂坐标"
   ]
  },
  {
   "cell_type": "code",
   "execution_count": 2,
   "id": "7fb7057b-0936-41fb-8034-87d686cbcc48",
   "metadata": {},
   "outputs": [],
   "source": [
    "# 整理两个标定点的坐标\n",
    "cali_1_pixel = [591,435]                       # 左上角，第一个标定点的像素坐标，要手动填！\n",
    "cali_1_mc = [239.6, 117.1]                  # 左上角，第一个标定点的机械臂坐标，要手动填！\n",
    "cali_2_pixel = [51,71]                         # 右下角，第二个标定点的像素坐标\n",
    "cali_2_mc = [51.0, -140.6]                    # 右下角，第二个标定点的机械臂坐标，要手动填！"
   ]
  },
  {
   "cell_type": "code",
   "execution_count": 9,
   "id": "61655532-e4b0-4c56-84f8-ca3704d7308e",
   "metadata": {},
   "outputs": [],
   "source": [
    "# 中间指定点在图像中的像素坐标\n",
    "X_pixel = 320\n",
    "Y_pixel = 240"
   ]
  },
  {
   "cell_type": "code",
   "execution_count": 10,
   "id": "4c32b19d-995c-4433-9670-043f8b7613f1",
   "metadata": {},
   "outputs": [],
   "source": [
    "# 计算机械臂的Y轴（对应图像的X轴）上的坐标\n",
    "Y_cali_im = [cali_2_pixel[0], cali_1_pixel[0]]  # 图像的X轴像素坐标（先小后大）\n",
    "Y_cali_mc = [cali_2_mc[1], cali_1_mc[1]]  # 机械臂的Y轴坐标\n",
    "\n",
    "Y_mc = np.interp(X_pixel, Y_cali_im, Y_cali_mc)  # 使用插值法计算机械臂Y轴的坐标\n",
    "\n",
    "# 计算机械臂的X轴（对应图像的Y轴）上的坐标\n",
    "X_cali_im = [cali_2_pixel[1], cali_1_pixel[1]]  # 图像的Y轴像素坐标（先小后大）\n",
    "X_cali_mc = [cali_2_mc[0], cali_1_mc[0]]  # 机械臂的X轴坐标\n",
    "\n",
    "X_mc = np.interp(Y_pixel, X_cali_im, X_cali_mc)  # 使用插值法计算机械臂X轴的坐标\n"
   ]
  },
  {
   "cell_type": "code",
   "execution_count": null,
   "id": "233656c8",
   "metadata": {},
   "outputs": [],
   "source": [
    "print(f\"像素点({X_pixel}, {Y_pixel})对应的机械臂坐标为: ({X_mc}, {Y_mc})\")"
   ]
  },
  {
   "cell_type": "markdown",
   "id": "bc995043-f07f-47df-b9ae-3120b5bf4253",
   "metadata": {},
   "source": [
    "## 让机械臂移动至该点吸取"
   ]
  },
  {
   "cell_type": "code",
   "execution_count": 13,
   "id": "9eddbc0c-3247-412d-b291-0c9c704d2dd3",
   "metadata": {},
   "outputs": [],
   "source": [
    "mc.send_coords([X_mc, Y_mc, 100, -178.24, 1.68, -134.33], 20)\n",
    "time.sleep(3)"
   ]
  },
  {
   "cell_type": "code",
   "execution_count": null,
   "id": "fb08a954-ee74-4db9-8504-c5cead7f371a",
   "metadata": {},
   "outputs": [],
   "source": [
    "# 机械臂归零\n",
    "mc.send_angles([0, 0, 0, 0, 0, 0], 40)\n",
    "time.sleep(3)"
   ]
  },
  {
   "cell_type": "markdown",
   "id": "5c86bde9-379b-42ed-bb1e-c1271b148427",
   "metadata": {},
   "source": [
    "## 封装手眼标定函数"
   ]
  },
  {
   "cell_type": "code",
   "execution_count": 12,
   "id": "057a98f6-7207-438b-b6fc-dfdff480c481",
   "metadata": {},
   "outputs": [],
   "source": [
    "import numpy as np\n",
    "def hand_eye_calibration(X_pixel=160, Y_pixel=120):\n",
    "    '''\n",
    "    输入目标点在图像中的像素坐标，转换为机械臂坐标\n",
    "    '''\n",
    "    # 计算机械臂的Y轴（对应图像的X轴）上的坐标\n",
    "    Y_cali_im = [cali_2_pixel[0], cali_1_pixel[0]]  # 图像的X轴像素坐标（先小后大）\n",
    "    Y_cali_mc = [cali_2_mc[1], cali_1_mc[1]]  # 机械臂的Y轴坐标\n",
    "    \n",
    "    Y_mc = np.interp(X_pixel, Y_cali_im, Y_cali_mc)  # 使用插值法计算机械臂Y轴的坐标\n",
    "    \n",
    "    # 计算机械臂的X轴（对应图像的Y轴）上的坐标\n",
    "    X_cali_im = [cali_2_pixel[1], cali_1_pixel[1]]  # 图像的Y轴像素坐标（先小后大）\n",
    "    X_cali_mc = [cali_2_mc[0], cali_1_mc[0]]  # 机械臂的X轴坐标\n",
    "    \n",
    "    X_mc = np.interp(Y_pixel, X_cali_im, X_cali_mc)  # 使用插值法计算机械臂X轴的坐标\n",
    "\n",
    "\n",
    "    return X_mc, Y_mc"
   ]
  },
  {
   "cell_type": "code",
   "execution_count": 13,
   "id": "c6810bb1-2455-41b5-aad3-62967f67dc75",
   "metadata": {},
   "outputs": [
    {
     "data": {
      "text/plain": [
       "(152.55384615384614, -87.1511111111111)"
      ]
     },
     "execution_count": 13,
     "metadata": {},
     "output_type": "execute_result"
    }
   ],
   "source": [
    "hand_eye_calibration(X_pixel=163, Y_pixel=267)"
   ]
  },
  {
   "cell_type": "code",
   "execution_count": 14,
   "id": "777a657f-1ab6-4439-85da-62ad1b0f79df",
   "metadata": {},
   "outputs": [
    {
     "data": {
      "text/plain": [
       "(138.5642857142857, -12.227222222222224)"
      ]
     },
     "execution_count": 14,
     "metadata": {},
     "output_type": "execute_result"
    }
   ],
   "source": [
    "hand_eye_calibration(X_pixel=320, Y_pixel=240)"
   ]
  },
  {
   "cell_type": "markdown",
   "id": "55d96721-b3ce-4894-bb26-cc7b021c0ddc",
   "metadata": {},
   "source": [
    "## 第十一步：验证标定效果"
   ]
  },
  {
   "cell_type": "code",
   "execution_count": 61,
   "id": "e343e943-933b-43d1-9e41-00afcc59f9a3",
   "metadata": {},
   "outputs": [],
   "source": [
    "# 机械臂归零\n",
    "mc.send_angles([0, 0, 0, 0, 0, 0], 40)\n",
    "time.sleep(3)"
   ]
  },
  {
   "cell_type": "code",
   "execution_count": null,
   "id": "54c57f03-9af3-4124-9d21-0d363dd250bf",
   "metadata": {},
   "outputs": [],
   "source": [
    "# 移动至俯视姿态\n",
    "mc.send_angles([-62.13, 8.96, -87.71, -14.41, 2.54, -16.34], 10)\n",
    "time.sleep(3)"
   ]
  },
  {
   "cell_type": "code",
   "execution_count": 62,
   "id": "cfee14e0-1fc4-4c69-be6a-9b39cf49a7e4",
   "metadata": {},
   "outputs": [],
   "source": [
    "# 运行`xzarm_check.py`，用鼠标点选图像中的某个点，获取像素坐标\n",
    "X_pixel, Y_pixel = 380,471"
   ]
  },
  {
   "cell_type": "code",
   "execution_count": 63,
   "id": "22178096-dd19-47d9-9355-adbed0d6a175",
   "metadata": {},
   "outputs": [],
   "source": [
    "# 手眼标定转换为机械臂坐标\n",
    "X_mc, Y_mc = hand_eye_calibration(X_pixel, Y_pixel)"
   ]
  },
  {
   "cell_type": "code",
   "execution_count": null,
   "id": "327bc370-54e7-4cb5-b06d-deb16f35cce1",
   "metadata": {},
   "outputs": [],
   "source": [
    "X_mc"
   ]
  },
  {
   "cell_type": "code",
   "execution_count": 65,
   "id": "77ea035a-8519-4d9a-b4ba-dab0531b47a0",
   "metadata": {},
   "outputs": [],
   "source": [
    "Y_mc=Y_mc-20"
   ]
  },
  {
   "cell_type": "code",
   "execution_count": null,
   "id": "01e9c7b8-11de-4d01-a810-ef2f84b314af",
   "metadata": {},
   "outputs": [],
   "source": [
    "Y_mc"
   ]
  },
  {
   "cell_type": "code",
   "execution_count": 69,
   "id": "fb7a11fc-037b-472a-b4c6-30cf3481d012",
   "metadata": {},
   "outputs": [],
   "source": [
    "# 控制机械臂移动到这个点，看是否准确\n",
    "mc.send_coords([X_mc, Y_mc, 150, -178.24, 1.68, -134.33], 20)\n",
    "time.sleep(3)"
   ]
  },
  {
   "cell_type": "code",
   "execution_count": null,
   "id": "e962d3c8-9ecf-45db-8a82-13abd582fb9e",
   "metadata": {},
   "outputs": [],
   "source": []
  }
 ],
 "metadata": {
  "kernelspec": {
   "display_name": "base",
   "language": "python",
   "name": "python3"
  },
  "language_info": {
   "codemirror_mode": {
    "name": "ipython",
    "version": 3
   },
   "file_extension": ".py",
   "mimetype": "text/x-python",
   "name": "python",
   "nbconvert_exporter": "python",
   "pygments_lexer": "ipython3",
   "version": "3.11.5"
  }
 },
 "nbformat": 4,
 "nbformat_minor": 5
}
